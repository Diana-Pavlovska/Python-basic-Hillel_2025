{
  "nbformat": 4,
  "nbformat_minor": 0,
  "metadata": {
    "colab": {
      "provenance": [],
      "authorship_tag": "ABX9TyNj3V0a7IsPy19p2Eh4HlEi",
      "include_colab_link": true
    },
    "kernelspec": {
      "name": "python3",
      "display_name": "Python 3"
    },
    "language_info": {
      "name": "python"
    }
  },
  "cells": [
    {
      "cell_type": "markdown",
      "metadata": {
        "id": "view-in-github",
        "colab_type": "text"
      },
      "source": [
        "<a href=\"https://colab.research.google.com/github/Diana-Pavlovska/Python-basic-Hillel_2025/blob/main/Untitled0.ipynb\" target=\"_parent\"><img src=\"https://colab.research.google.com/assets/colab-badge.svg\" alt=\"Open In Colab\"/></a>"
      ]
    },
    {
      "cell_type": "code",
      "execution_count": 26,
      "metadata": {
        "id": "28c5pfehRkIr",
        "colab": {
          "base_uri": "https://localhost:8080/"
        },
        "outputId": "43b97fa9-24e5-48dc-92d6-6b938e9b8ff8"
      },
      "outputs": [
        {
          "output_type": "stream",
          "name": "stdout",
          "text": [
            "Please, enter the 5 numbers: 46372\n",
            "2 7 3 6 4\n"
          ]
        }
      ],
      "source": [
        "value = int(input(\"Please, enter the 5 numbers: \"))\n",
        "a, y = divmod(value, 10000)\n",
        "b, y = divmod(y, 1000)\n",
        "c, y = divmod(y, 100)\n",
        "d, e = divmod(y, 10)\n",
        "print(e,d,c,b,a)\n",
        "\n"
      ]
    }
  ]
}